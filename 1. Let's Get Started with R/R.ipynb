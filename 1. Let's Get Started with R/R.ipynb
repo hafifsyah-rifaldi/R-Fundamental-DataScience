{
  "nbformat": 4,
  "nbformat_minor": 0,
  "metadata": {
    "colab": {
      "provenance": []
    },
    "kernelspec": {
      "name": "ir",
      "display_name": "R"
    },
    "language_info": {
      "name": "R"
    },
    "gpuClass": "standard"
  },
  "cells": [
    {
      "cell_type": "code",
      "execution_count": 2,
      "metadata": {
        "colab": {
          "base_uri": "https://localhost:8080/",
          "height": 291
        },
        "id": "5q32PPJX2TrE",
        "outputId": "325cd45a-e91b-4bff-a6ec-55ea96da73c0"
      },
      "outputs": [
        {
          "output_type": "display_data",
          "data": {
            "text/plain": [
              "               _                                          \n",
              "platform       x86_64-pc-linux-gnu                        \n",
              "arch           x86_64                                     \n",
              "os             linux-gnu                                  \n",
              "system         x86_64, linux-gnu                          \n",
              "status         Patched                                    \n",
              "major          4                                          \n",
              "minor          2.2                                        \n",
              "year           2022                                       \n",
              "month          11                                         \n",
              "day            10                                         \n",
              "svn rev        83330                                      \n",
              "language       R                                          \n",
              "version.string R version 4.2.2 Patched (2022-11-10 r83330)\n",
              "nickname       Innocent and Trusting                      "
            ]
          },
          "metadata": {}
        }
      ],
      "source": [
        "R.version"
      ]
    },
    {
      "cell_type": "markdown",
      "source": [
        "### 1. Kode Pertama, Hello World!"
      ],
      "metadata": {
        "id": "G8G4H6gl20-K"
      }
    },
    {
      "cell_type": "code",
      "source": [
        "\"Hello World\"\n",
        "1 + 5"
      ],
      "metadata": {
        "colab": {
          "base_uri": "https://localhost:8080/",
          "height": 52
        },
        "id": "8PAarrLmEx6T",
        "outputId": "5ffac28e-81aa-45a0-f022-c52fb26fdd95"
      },
      "execution_count": 1,
      "outputs": [
        {
          "output_type": "display_data",
          "data": {
            "text/html": [
              "'Hello World'"
            ],
            "text/markdown": "'Hello World'",
            "text/latex": "'Hello World'",
            "text/plain": [
              "[1] \"Hello World\""
            ]
          },
          "metadata": {}
        },
        {
          "output_type": "display_data",
          "data": {
            "text/html": [
              "6"
            ],
            "text/markdown": "6",
            "text/latex": "6",
            "text/plain": [
              "[1] 6"
            ]
          },
          "metadata": {}
        }
      ]
    },
    {
      "cell_type": "markdown",
      "source": [
        "### 2. Teks, Angka dan Rumus Perhitungan"
      ],
      "metadata": {
        "id": "q7m5I4irE8gT"
      }
    },
    {
      "cell_type": "code",
      "source": [
        "9\n",
        "\"Budi\"\n",
        "9 * 3"
      ],
      "metadata": {
        "colab": {
          "base_uri": "https://localhost:8080/",
          "height": 69
        },
        "id": "L0z3ILynE-FS",
        "outputId": "1ebdb11c-ba50-4571-8382-db408c17a72a"
      },
      "execution_count": 4,
      "outputs": [
        {
          "output_type": "display_data",
          "data": {
            "text/html": [
              "9"
            ],
            "text/markdown": "9",
            "text/latex": "9",
            "text/plain": [
              "[1] 9"
            ]
          },
          "metadata": {}
        },
        {
          "output_type": "display_data",
          "data": {
            "text/html": [
              "'Budi'"
            ],
            "text/markdown": "'Budi'",
            "text/latex": "'Budi'",
            "text/plain": [
              "[1] \"Budi\""
            ]
          },
          "metadata": {}
        },
        {
          "output_type": "display_data",
          "data": {
            "text/html": [
              "27"
            ],
            "text/markdown": "27",
            "text/latex": "27",
            "text/plain": [
              "[1] 27"
            ]
          },
          "metadata": {}
        }
      ]
    },
    {
      "cell_type": "markdown",
      "source": [
        "### 3. Menggunakan Fungsi Print"
      ],
      "metadata": {
        "id": "jWrNHtdqFTsl"
      }
    },
    {
      "cell_type": "code",
      "source": [
        "print(\"Hello World\")\n",
        "print(3 + 4)"
      ],
      "metadata": {
        "colab": {
          "base_uri": "https://localhost:8080/"
        },
        "id": "P7jCkpTwFVRV",
        "outputId": "767eb897-0b17-4e3a-da0e-bc0998384038"
      },
      "execution_count": 5,
      "outputs": [
        {
          "output_type": "stream",
          "name": "stdout",
          "text": [
            "[1] \"Hello World\"\n",
            "[1] 7\n"
          ]
        }
      ]
    },
    {
      "cell_type": "markdown",
      "source": [
        "### 4. Huruf Besar, Huruf Kecil dan Format Angka"
      ],
      "metadata": {
        "id": "FxqQGOo5FbIE"
      }
    },
    {
      "cell_type": "code",
      "source": [
        "01\n",
        "1\n",
        "\"01-01-1980\"\n",
        "\"1-1-1980\"\n",
        "\"Budi\"\n",
        "\"BUDI\""
      ],
      "metadata": {
        "colab": {
          "base_uri": "https://localhost:8080/",
          "height": 121
        },
        "id": "B6NA_Lg8Fdgx",
        "outputId": "35adbe63-8b5e-424d-ed0d-740a4833178b"
      },
      "execution_count": 6,
      "outputs": [
        {
          "output_type": "display_data",
          "data": {
            "text/html": [
              "1"
            ],
            "text/markdown": "1",
            "text/latex": "1",
            "text/plain": [
              "[1] 1"
            ]
          },
          "metadata": {}
        },
        {
          "output_type": "display_data",
          "data": {
            "text/html": [
              "1"
            ],
            "text/markdown": "1",
            "text/latex": "1",
            "text/plain": [
              "[1] 1"
            ]
          },
          "metadata": {}
        },
        {
          "output_type": "display_data",
          "data": {
            "text/html": [
              "'01-01-1980'"
            ],
            "text/markdown": "'01-01-1980'",
            "text/latex": "'01-01-1980'",
            "text/plain": [
              "[1] \"01-01-1980\""
            ]
          },
          "metadata": {}
        },
        {
          "output_type": "display_data",
          "data": {
            "text/html": [
              "'1-1-1980'"
            ],
            "text/markdown": "'1-1-1980'",
            "text/latex": "'1-1-1980'",
            "text/plain": [
              "[1] \"1-1-1980\""
            ]
          },
          "metadata": {}
        },
        {
          "output_type": "display_data",
          "data": {
            "text/html": [
              "'Budi'"
            ],
            "text/markdown": "'Budi'",
            "text/latex": "'Budi'",
            "text/plain": [
              "[1] \"Budi\""
            ]
          },
          "metadata": {}
        },
        {
          "output_type": "display_data",
          "data": {
            "text/html": [
              "'BUDI'"
            ],
            "text/markdown": "'BUDI'",
            "text/latex": "'BUDI'",
            "text/plain": [
              "[1] \"BUDI\""
            ]
          },
          "metadata": {}
        }
      ]
    },
    {
      "cell_type": "markdown",
      "source": [
        "### 5. Function\n",
        "Function merupakan suatu objek di R yang parameternya dapat diisi oleh satu atau beberapa teks maupun satu atau beberapa angka. Setelah dieksekusi, function ini akan mengembalikan satu atau beberapa nilai sesuai dengan tujuan function itu diperuntukkan untuk apa.\n",
        "\n",
        "Mari kita lihat satu function yang akan sering digunakan, yaitu c. Fungsi c ini digunakan untuk membuat urutan angka maupun teks (ini merupakan peruntukan function-nya).\n",
        "\n",
        "Ketikkan perintah c(10:40) berikut pada bagian Code Editor. Perintah ini berguna untuk membuat rangkaian angka dari 10 s/d 40."
      ],
      "metadata": {
        "id": "zvT4eE7BFss2"
      }
    },
    {
      "cell_type": "code",
      "source": [
        "c(5:10)"
      ],
      "metadata": {
        "colab": {
          "base_uri": "https://localhost:8080/",
          "height": 34
        },
        "id": "6kTqsJh6F0Fv",
        "outputId": "61ace10b-d737-42ac-f24f-6e7cc291694e"
      },
      "execution_count": 10,
      "outputs": [
        {
          "output_type": "display_data",
          "data": {
            "text/html": [
              "<style>\n",
              ".list-inline {list-style: none; margin:0; padding: 0}\n",
              ".list-inline>li {display: inline-block}\n",
              ".list-inline>li:not(:last-child)::after {content: \"\\00b7\"; padding: 0 .5ex}\n",
              "</style>\n",
              "<ol class=list-inline><li>5</li><li>6</li><li>7</li><li>8</li><li>9</li><li>10</li></ol>\n"
            ],
            "text/markdown": "1. 5\n2. 6\n3. 7\n4. 8\n5. 9\n6. 10\n\n\n",
            "text/latex": "\\begin{enumerate*}\n\\item 5\n\\item 6\n\\item 7\n\\item 8\n\\item 9\n\\item 10\n\\end{enumerate*}\n",
            "text/plain": [
              "[1]  5  6  7  8  9 10"
            ]
          },
          "metadata": {}
        }
      ]
    },
    {
      "cell_type": "markdown",
      "source": [
        "### 6. Variable"
      ],
      "metadata": {
        "id": "TvQnJOuiGGDj"
      }
    },
    {
      "cell_type": "code",
      "source": [
        "budi_berat_kg <- 68\n",
        "santi_berat_kg <- 54.5\n",
        "budi_berat_kg\n",
        "santi_berat_kg\n",
        "\n",
        "pi <- 3.14\n",
        "pi"
      ],
      "metadata": {
        "colab": {
          "base_uri": "https://localhost:8080/",
          "height": 69
        },
        "id": "fKlOGhgWGcWY",
        "outputId": "2fda48c1-888f-4d01-a779-560a7ca12eba"
      },
      "execution_count": 11,
      "outputs": [
        {
          "output_type": "display_data",
          "data": {
            "text/html": [
              "68"
            ],
            "text/markdown": "68",
            "text/latex": "68",
            "text/plain": [
              "[1] 68"
            ]
          },
          "metadata": {}
        },
        {
          "output_type": "display_data",
          "data": {
            "text/html": [
              "54.5"
            ],
            "text/markdown": "54.5",
            "text/latex": "54.5",
            "text/plain": [
              "[1] 54.5"
            ]
          },
          "metadata": {}
        },
        {
          "output_type": "display_data",
          "data": {
            "text/html": [
              "3.14"
            ],
            "text/markdown": "3.14",
            "text/latex": "3.14",
            "text/plain": [
              "[1] 3.14"
            ]
          },
          "metadata": {}
        }
      ]
    },
    {
      "cell_type": "markdown",
      "source": [
        "### 7. Comment"
      ],
      "metadata": {
        "id": "zjC3XCOiGfpv"
      }
    },
    {
      "cell_type": "code",
      "source": [
        "2 + 2 #Ini adalah baris komentar\n",
        "#ini adalah komentar penutup"
      ],
      "metadata": {
        "colab": {
          "base_uri": "https://localhost:8080/",
          "height": 34
        },
        "id": "Cc5kmJiYGiVM",
        "outputId": "2a851331-14bc-4781-eb43-c9ebf479cd3b"
      },
      "execution_count": 12,
      "outputs": [
        {
          "output_type": "display_data",
          "data": {
            "text/html": [
              "4"
            ],
            "text/markdown": "4",
            "text/latex": "4",
            "text/plain": [
              "[1] 4"
            ]
          },
          "metadata": {}
        }
      ]
    }
  ]
}