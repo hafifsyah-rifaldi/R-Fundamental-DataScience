{
  "nbformat": 4,
  "nbformat_minor": 0,
  "metadata": {
    "colab": {
      "provenance": []
    },
    "kernelspec": {
      "name": "ir",
      "display_name": "R"
    },
    "language_info": {
      "name": "R"
    },
    "gpuClass": "standard"
  },
  "cells": [
    {
      "cell_type": "markdown",
      "source": [
        "### 1. Vector\n",
        "Vector merupakan tipe data sederhana di R yang menyimpan deretan nilai (lebih dari satu nilai) dengan tipe data sama untuk setiap elemennya. Maksudnya, jika tipe datanya berupa teks maka seluruh elemennya harus bertipe teks. Demikian juga jika tipenya angka maka seluruh elemennya berisi angka semua.\n",
        "\n",
        "Vector didefinisikan dengan nama function yang memilki satu huruf saja: c, yang telah kamu pelajari dan praktikkan sebelumnya."
      ],
      "metadata": {
        "id": "1uJl8feesvlK"
      }
    },
    {
      "cell_type": "code",
      "source": [
        "# Ini adalah contoh vector untuk angka numerik dengan 3 data c(4, 5, 6)\n",
        "c(4,5,6)\n",
        "\n",
        "# Variable bernama angka dengan input berupa vector\n",
        "angka <- c(4,5,6)\n",
        "\n",
        "# Tampilkan isi variable angka dengan fungsi print\n",
        "print(angka)"
      ],
      "metadata": {
        "colab": {
          "base_uri": "https://localhost:8080/",
          "height": 53
        },
        "id": "-Lqf7vz-sxyG",
        "outputId": "d8d98b4f-9518-4f60-9eeb-04506562bb95"
      },
      "execution_count": null,
      "outputs": [
        {
          "output_type": "display_data",
          "data": {
            "text/html": [
              "<style>\n",
              ".list-inline {list-style: none; margin:0; padding: 0}\n",
              ".list-inline>li {display: inline-block}\n",
              ".list-inline>li:not(:last-child)::after {content: \"\\00b7\"; padding: 0 .5ex}\n",
              "</style>\n",
              "<ol class=list-inline><li>4</li><li>5</li><li>6</li></ol>\n"
            ],
            "text/markdown": "1. 4\n2. 5\n3. 6\n\n\n",
            "text/latex": "\\begin{enumerate*}\n\\item 4\n\\item 5\n\\item 6\n\\end{enumerate*}\n",
            "text/plain": [
              "[1] 4 5 6"
            ]
          },
          "metadata": {}
        },
        {
          "output_type": "stream",
          "name": "stdout",
          "text": [
            "[1] 4 5 6\n"
          ]
        }
      ]
    },
    {
      "cell_type": "markdown",
      "source": [
        "### 2. Deretan Nilai dengan Operator \":\" (Titik Dua)\n",
        "\n",
        "Operator \":\" atau titik dua merupakan operator yang digunakan untuk mempersingkat penulisan dari nilai-nilai vector yang berurutan. Sebagai contoh, perintah c(1, 2, 3, 4, 5, 6, 7, 8, 9, 10) yang membentuk vector dengan angka 1 sampai dengan 10 dapat disingkat dengan c(1:10)."
      ],
      "metadata": {
        "id": "JEluEUoltYPM"
      }
    },
    {
      "cell_type": "code",
      "source": [
        "angka1 <- c(1, 2, 3, 4, 5, 6, 7, 8, 9, 10)\n",
        "print(angka1)\n",
        "angka2 <- c(1:10)\n",
        "print(angka2)"
      ],
      "metadata": {
        "colab": {
          "base_uri": "https://localhost:8080/"
        },
        "id": "KnQtlIPSteEu",
        "outputId": "8d793a40-31f2-424d-a690-c1057375c687"
      },
      "execution_count": null,
      "outputs": [
        {
          "output_type": "stream",
          "name": "stdout",
          "text": [
            " [1]  1  2  3  4  5  6  7  8  9 10\n",
            " [1]  1  2  3  4  5  6  7  8  9 10\n"
          ]
        }
      ]
    },
    {
      "cell_type": "markdown",
      "source": [
        "### 3. Vector dengan Isi Teks\n",
        "\n",
        "Selain angka, vector juga bisa diisi dengan teks."
      ],
      "metadata": {
        "id": "uloH9ffjuYgT"
      }
    },
    {
      "cell_type": "code",
      "source": [
        "# Variable nama_mahasiswa dengan input character\n",
        "nama_mahasiswa <- c(\"Amira\",\"Budi\",\"Charlie\")\n",
        "print(nama_mahasiswa)"
      ],
      "metadata": {
        "colab": {
          "base_uri": "https://localhost:8080/"
        },
        "id": "TOMuK0sxurYR",
        "outputId": "2b40201c-8f22-4bbf-c2be-328283cc96fa"
      },
      "execution_count": null,
      "outputs": [
        {
          "output_type": "stream",
          "name": "stdout",
          "text": [
            "[1] \"Amira\"   \"Budi\"    \"Charlie\"\n"
          ]
        }
      ]
    },
    {
      "cell_type": "markdown",
      "source": [
        "### 4. Index dan Accessor pada Vector"
      ],
      "metadata": {
        "id": "LLFPEnA-wGPA"
      }
    },
    {
      "cell_type": "code",
      "source": [
        "# Buat vector variable bernama angka yang isinya 20 s/d 30\n",
        "angka <- c(20:30)\n",
        "print(angka)\n",
        "\n",
        "# Tampilkan isi variable angka pada posisi ke 3\n",
        "print(angka[3])\n",
        "\n",
        "# Tampilkan isi variable angka pada posisi ke 5 gunakan kurung siku ganda\n",
        "print(angka[[5]])\n",
        "\n",
        "# Tampilkan isi variable angka pada posisi ke 4 s/d 6\n",
        "print(angka[4:6])\n",
        "\n",
        "# Buat vector teks dengan nama kode_prodi yang diisi sesuai petunjuk soal\n",
        "kode_prodi <- c(\"DKV\",\"ILKOM\",\"ICT\")\n",
        "# Tampilkan isi indeks ketiga dari kode_prodi\n",
        "print(kode_prodi[3])"
      ],
      "metadata": {
        "id": "Mv_jT0ipwKHL",
        "outputId": "e58dcdc5-8808-4ad0-fcea-aeb5943528a1",
        "colab": {
          "base_uri": "https://localhost:8080/"
        }
      },
      "execution_count": null,
      "outputs": [
        {
          "output_type": "stream",
          "name": "stdout",
          "text": [
            " [1] 20 21 22 23 24 25 26 27 28 29 30\n",
            "[1] 22\n",
            "[1] 24\n",
            "[1] 23 24 25\n",
            "[1] \"ICT\"\n"
          ]
        }
      ]
    },
    {
      "cell_type": "markdown",
      "source": [
        "### 5. Named Vector\n",
        "Selain dengan angka, indeks pada vector juga dapat dilengkapi dengan nama untuk tiap elemennya dengan menggunakan format penulisan name=value. Penggunaan format name=value disebut dengan named vector."
      ],
      "metadata": {
        "id": "eEn0RJAWqMbr"
      }
    },
    {
      "cell_type": "code",
      "source": [
        "#Membuat named vector dengan nama nilai\n",
        "nilai <- c(statistik = 89, fisika = 95, ilmukomunikasi = 100)\n",
        "\n",
        "#Menampilkan isi variable nilai\n",
        "print(nilai)\n",
        "\n",
        "#Menampilkan isi dengan nama fisika\n",
        "print(nilai[\"fisika\"])\n",
        "#Buat variable profil sesuai permintaan soal\n",
        "\n",
        "#Tampilkan variable profil\n",
        "profil <- c(nama= \"Budi\", tempat_tinggal = \"Jakarta\", tingkat_pendidikan = \"S1\")\n",
        "\n",
        "print(profil)"
      ],
      "metadata": {
        "colab": {
          "base_uri": "https://localhost:8080/"
        },
        "id": "Q2DpPlShqOKR",
        "outputId": "32414a22-bd14-440a-dda0-ee4d9f69b635"
      },
      "execution_count": 1,
      "outputs": [
        {
          "output_type": "stream",
          "name": "stdout",
          "text": [
            "     statistik         fisika ilmukomunikasi \n",
            "            89             95            100 \n",
            "fisika \n",
            "    95 \n",
            "              nama     tempat_tinggal tingkat_pendidikan \n",
            "            \"Budi\"          \"Jakarta\"               \"S1\" \n"
          ]
        }
      ]
    },
    {
      "cell_type": "markdown",
      "source": [
        "### 6. List\n",
        "List merupakan jenis data di R yang mirip dengan vector. Perbedaannya adalah list dapat menyimpan lebih dari satu tipe data dasar di setiap elemennya. Untuk memasukkan isi ke dalam struktur data ini kita gunakan function list."
      ],
      "metadata": {
        "id": "UJmNAMdbqvs-"
      }
    },
    {
      "cell_type": "code",
      "source": [
        "# List disimpan dalam variable dengan nama list_random\n",
        "list_random <- list(2, \"Budi\", 4)\n",
        "\n",
        "# Menampilkan isi list\n",
        "list_random \n",
        "\n",
        "# List disimpan dalam variable dengan nama dati2\n",
        "dati2 <- list(nama = \"Denpasar\", propinsi = \"Bali\")\n",
        "\n",
        "# Menampilkan isi list dati2\n",
        "dati2 \n",
        "\n",
        "# Buat variable kota sesuai permintaan soal\n",
        "kota <- list(nama_kota = \"Makassar\", propinsi = \"Sulawesi Selatan\", luas_km2 = 199.3)\n",
        "# Tampilkan isi variable list kota\n",
        "kota"
      ],
      "metadata": {
        "colab": {
          "base_uri": "https://localhost:8080/",
          "height": 299
        },
        "id": "Mk_8E3c-qxkP",
        "outputId": "d8c0abda-9efd-42cc-a7fe-2843d7ca8924"
      },
      "execution_count": 2,
      "outputs": [
        {
          "output_type": "display_data",
          "data": {
            "text/html": [
              "<ol>\n",
              "\t<li>2</li>\n",
              "\t<li>'Budi'</li>\n",
              "\t<li>4</li>\n",
              "</ol>\n"
            ],
            "text/markdown": "1. 2\n2. 'Budi'\n3. 4\n\n\n",
            "text/latex": "\\begin{enumerate}\n\\item 2\n\\item 'Budi'\n\\item 4\n\\end{enumerate}\n",
            "text/plain": [
              "[[1]]\n",
              "[1] 2\n",
              "\n",
              "[[2]]\n",
              "[1] \"Budi\"\n",
              "\n",
              "[[3]]\n",
              "[1] 4\n"
            ]
          },
          "metadata": {}
        },
        {
          "output_type": "display_data",
          "data": {
            "text/html": [
              "<dl>\n",
              "\t<dt>$nama</dt>\n",
              "\t\t<dd>'Denpasar'</dd>\n",
              "\t<dt>$propinsi</dt>\n",
              "\t\t<dd>'Bali'</dd>\n",
              "</dl>\n"
            ],
            "text/markdown": "$nama\n:   'Denpasar'\n$propinsi\n:   'Bali'\n\n\n",
            "text/latex": "\\begin{description}\n\\item[\\$nama] 'Denpasar'\n\\item[\\$propinsi] 'Bali'\n\\end{description}\n",
            "text/plain": [
              "$nama\n",
              "[1] \"Denpasar\"\n",
              "\n",
              "$propinsi\n",
              "[1] \"Bali\"\n"
            ]
          },
          "metadata": {}
        },
        {
          "output_type": "display_data",
          "data": {
            "text/html": [
              "<dl>\n",
              "\t<dt>$nama_kota</dt>\n",
              "\t\t<dd>'Makassar'</dd>\n",
              "\t<dt>$propinsi</dt>\n",
              "\t\t<dd>'Sulawesi Selatan'</dd>\n",
              "\t<dt>$luas_km2</dt>\n",
              "\t\t<dd>199.3</dd>\n",
              "</dl>\n"
            ],
            "text/markdown": "$nama_kota\n:   'Makassar'\n$propinsi\n:   'Sulawesi Selatan'\n$luas_km2\n:   199.3\n\n\n",
            "text/latex": "\\begin{description}\n\\item[\\$nama\\_kota] 'Makassar'\n\\item[\\$propinsi] 'Sulawesi Selatan'\n\\item[\\$luas\\_km2] 199.3\n\\end{description}\n",
            "text/plain": [
              "$nama_kota\n",
              "[1] \"Makassar\"\n",
              "\n",
              "$propinsi\n",
              "[1] \"Sulawesi Selatan\"\n",
              "\n",
              "$luas_km2\n",
              "[1] 199.3\n"
            ]
          },
          "metadata": {}
        }
      ]
    },
    {
      "cell_type": "markdown",
      "source": [
        "### 7. List Index\n",
        "Untuk mengambil isi list, kamu dapat mengambil dari posisi index-nya. Ketentuan dan caranya sama persis dengan apa yang telah kamu pelajari di vector."
      ],
      "metadata": {
        "id": "MZXk2LICrSFt"
      }
    },
    {
      "cell_type": "code",
      "source": [
        "# Membentuk list dengan 2 angka dan 1 character\n",
        "list_saya <- list(2, \"Budi\", 4)\n",
        "\n",
        "# Menampilkan index kedua dengan aksesor kurung siku tunggal \n",
        "list_saya[2]\n",
        "\n",
        "# Menampilkan index kedua dengan aksesor kurung siku ganda\n",
        "list_saya[[2]]\n",
        "\n",
        "# Menampilkan index kedua s/d ketiga\n",
        "list_saya[2:3]\n",
        "\n",
        "# Tugas praktik\n",
        "list_satu <- list(1, \"Online\", TRUE)\n",
        "\n",
        "list_satu[1]"
      ],
      "metadata": {
        "colab": {
          "base_uri": "https://localhost:8080/",
          "height": 174
        },
        "id": "JU8Zl6jtrTtX",
        "outputId": "87e63737-ea3e-4c36-88ac-ea143f35566b"
      },
      "execution_count": 3,
      "outputs": [
        {
          "output_type": "display_data",
          "data": {
            "text/html": [
              "<ol>\n",
              "\t<li>'Budi'</li>\n",
              "</ol>\n"
            ],
            "text/markdown": "1. 'Budi'\n\n\n",
            "text/latex": "\\begin{enumerate}\n\\item 'Budi'\n\\end{enumerate}\n",
            "text/plain": [
              "[[1]]\n",
              "[1] \"Budi\"\n"
            ]
          },
          "metadata": {}
        },
        {
          "output_type": "display_data",
          "data": {
            "text/html": [
              "'Budi'"
            ],
            "text/markdown": "'Budi'",
            "text/latex": "'Budi'",
            "text/plain": [
              "[1] \"Budi\""
            ]
          },
          "metadata": {}
        },
        {
          "output_type": "display_data",
          "data": {
            "text/html": [
              "<ol>\n",
              "\t<li>'Budi'</li>\n",
              "\t<li>4</li>\n",
              "</ol>\n"
            ],
            "text/markdown": "1. 'Budi'\n2. 4\n\n\n",
            "text/latex": "\\begin{enumerate}\n\\item 'Budi'\n\\item 4\n\\end{enumerate}\n",
            "text/plain": [
              "[[1]]\n",
              "[1] \"Budi\"\n",
              "\n",
              "[[2]]\n",
              "[1] 4\n"
            ]
          },
          "metadata": {}
        },
        {
          "output_type": "display_data",
          "data": {
            "text/html": [
              "<ol>\n",
              "\t<li>1</li>\n",
              "</ol>\n"
            ],
            "text/markdown": "1. 1\n\n\n",
            "text/latex": "\\begin{enumerate}\n\\item 1\n\\end{enumerate}\n",
            "text/plain": [
              "[[1]]\n",
              "[1] 1\n"
            ]
          },
          "metadata": {}
        }
      ]
    },
    {
      "cell_type": "markdown",
      "source": [
        "### 8. Data Frame\n",
        "Data frame merupakan jenis struktur data yang dirancang untuk representasi tabel, yang terdiri dari atas kolom dengan tiap kolom berisi list ataupun vector dengan jumlah data yang sama."
      ],
      "metadata": {
        "id": "5rLalADasDUT"
      }
    },
    {
      "cell_type": "code",
      "source": [
        "#Membuat dua variable vector\n",
        "fakultas <- c(\"Bisnis\", \"D3 Perhotelan\", \"ICT\", \"Ilmu Komunikasi\", \"Seni dan Desain\")\n",
        "jumlah_mahasiswa <- c(260, 28, 284, 465, 735)\n",
        "\n",
        "#Membuat data frame dari kedua vector di atas\n",
        "info_mahasiswa <- data.frame(fakultas, jumlah_mahasiswa)\n",
        "\n",
        "#Melihat isi data frame\n",
        "info_mahasiswa\n",
        "\n",
        "#Buat vector baru sebagai representasi akreditasi\n",
        "akreditasi <- c(\"A\",\"A\",\"B\",\"A\",\"A\")\n",
        "\n",
        "#Buat data frame dari ketiga vector di atas\n",
        "info_mahasiswa <- data.frame(fakultas, jumlah_mahasiswa, akreditasi)\n",
        "\n",
        "#Tampilkan dataframe info_mahasiswa\n",
        "info_mahasiswa"
      ],
      "metadata": {
        "colab": {
          "base_uri": "https://localhost:8080/",
          "height": 492
        },
        "id": "APtiWWvzsEjJ",
        "outputId": "080c91fb-af5b-4874-89b8-1445f28e6717"
      },
      "execution_count": 4,
      "outputs": [
        {
          "output_type": "display_data",
          "data": {
            "text/html": [
              "<table class=\"dataframe\">\n",
              "<caption>A data.frame: 5 × 2</caption>\n",
              "<thead>\n",
              "\t<tr><th scope=col>fakultas</th><th scope=col>jumlah_mahasiswa</th></tr>\n",
              "\t<tr><th scope=col>&lt;chr&gt;</th><th scope=col>&lt;dbl&gt;</th></tr>\n",
              "</thead>\n",
              "<tbody>\n",
              "\t<tr><td>Bisnis         </td><td>260</td></tr>\n",
              "\t<tr><td>D3 Perhotelan  </td><td> 28</td></tr>\n",
              "\t<tr><td>ICT            </td><td>284</td></tr>\n",
              "\t<tr><td>Ilmu Komunikasi</td><td>465</td></tr>\n",
              "\t<tr><td>Seni dan Desain</td><td>735</td></tr>\n",
              "</tbody>\n",
              "</table>\n"
            ],
            "text/markdown": "\nA data.frame: 5 × 2\n\n| fakultas &lt;chr&gt; | jumlah_mahasiswa &lt;dbl&gt; |\n|---|---|\n| Bisnis          | 260 |\n| D3 Perhotelan   |  28 |\n| ICT             | 284 |\n| Ilmu Komunikasi | 465 |\n| Seni dan Desain | 735 |\n\n",
            "text/latex": "A data.frame: 5 × 2\n\\begin{tabular}{ll}\n fakultas & jumlah\\_mahasiswa\\\\\n <chr> & <dbl>\\\\\n\\hline\n\t Bisnis          & 260\\\\\n\t D3 Perhotelan   &  28\\\\\n\t ICT             & 284\\\\\n\t Ilmu Komunikasi & 465\\\\\n\t Seni dan Desain & 735\\\\\n\\end{tabular}\n",
            "text/plain": [
              "  fakultas        jumlah_mahasiswa\n",
              "1 Bisnis          260             \n",
              "2 D3 Perhotelan    28             \n",
              "3 ICT             284             \n",
              "4 Ilmu Komunikasi 465             \n",
              "5 Seni dan Desain 735             "
            ]
          },
          "metadata": {}
        },
        {
          "output_type": "display_data",
          "data": {
            "text/html": [
              "<table class=\"dataframe\">\n",
              "<caption>A data.frame: 5 × 3</caption>\n",
              "<thead>\n",
              "\t<tr><th scope=col>fakultas</th><th scope=col>jumlah_mahasiswa</th><th scope=col>akreditasi</th></tr>\n",
              "\t<tr><th scope=col>&lt;chr&gt;</th><th scope=col>&lt;dbl&gt;</th><th scope=col>&lt;chr&gt;</th></tr>\n",
              "</thead>\n",
              "<tbody>\n",
              "\t<tr><td>Bisnis         </td><td>260</td><td>A</td></tr>\n",
              "\t<tr><td>D3 Perhotelan  </td><td> 28</td><td>A</td></tr>\n",
              "\t<tr><td>ICT            </td><td>284</td><td>B</td></tr>\n",
              "\t<tr><td>Ilmu Komunikasi</td><td>465</td><td>A</td></tr>\n",
              "\t<tr><td>Seni dan Desain</td><td>735</td><td>A</td></tr>\n",
              "</tbody>\n",
              "</table>\n"
            ],
            "text/markdown": "\nA data.frame: 5 × 3\n\n| fakultas &lt;chr&gt; | jumlah_mahasiswa &lt;dbl&gt; | akreditasi &lt;chr&gt; |\n|---|---|---|\n| Bisnis          | 260 | A |\n| D3 Perhotelan   |  28 | A |\n| ICT             | 284 | B |\n| Ilmu Komunikasi | 465 | A |\n| Seni dan Desain | 735 | A |\n\n",
            "text/latex": "A data.frame: 5 × 3\n\\begin{tabular}{lll}\n fakultas & jumlah\\_mahasiswa & akreditasi\\\\\n <chr> & <dbl> & <chr>\\\\\n\\hline\n\t Bisnis          & 260 & A\\\\\n\t D3 Perhotelan   &  28 & A\\\\\n\t ICT             & 284 & B\\\\\n\t Ilmu Komunikasi & 465 & A\\\\\n\t Seni dan Desain & 735 & A\\\\\n\\end{tabular}\n",
            "text/plain": [
              "  fakultas        jumlah_mahasiswa akreditasi\n",
              "1 Bisnis          260              A         \n",
              "2 D3 Perhotelan    28              A         \n",
              "3 ICT             284              B         \n",
              "4 Ilmu Komunikasi 465              A         \n",
              "5 Seni dan Desain 735              A         "
            ]
          },
          "metadata": {}
        }
      ]
    },
    {
      "cell_type": "markdown",
      "source": [
        "### 9. Cara Akses Data Frame\n",
        "Data frame memiliki banyak kolom dan dapat diakses dengan melalui nama kolom yang dimilikinya. Caranya adalah menggunakan accessor dengan tanda $ yang diikuti dengan nama kolom."
      ],
      "metadata": {
        "id": "6gv1zNcZsSOp"
      }
    },
    {
      "cell_type": "code",
      "source": [
        "#Membuat tiga variable vector\n",
        "fakultas <- c(\"Bisnis\", \"D3 Perhotelan\", \"ICT\", \"Ilmu Komunikasi\", \"Seni dan Desain\")\n",
        "jumlah_mahasiswa <- c(260, 28, 284, 465, 735)\n",
        "akreditasi <- c(\"A\",\"A\",\"B\",\"A\",\"A\")\n",
        "\n",
        "#Membuat data frame dari kedua vector di atas\n",
        "info_mahasiswa <- data.frame(fakultas, jumlah_mahasiswa, akreditasi)\n",
        "\n",
        "#Menampilkan kolom jumlah_mahasiswa\n",
        "info_mahasiswa$jumlah_mahasiswa\n",
        "\n",
        "#Menampilkan kolom fakultas\n",
        "info_mahasiswa$fakultas"
      ],
      "metadata": {
        "colab": {
          "base_uri": "https://localhost:8080/",
          "height": 52
        },
        "id": "4iPhdLMlsU2p",
        "outputId": "a49668fb-5e3b-43c0-ae60-acfa2e2701d5"
      },
      "execution_count": 5,
      "outputs": [
        {
          "output_type": "display_data",
          "data": {
            "text/html": [
              "<style>\n",
              ".list-inline {list-style: none; margin:0; padding: 0}\n",
              ".list-inline>li {display: inline-block}\n",
              ".list-inline>li:not(:last-child)::after {content: \"\\00b7\"; padding: 0 .5ex}\n",
              "</style>\n",
              "<ol class=list-inline><li>260</li><li>28</li><li>284</li><li>465</li><li>735</li></ol>\n"
            ],
            "text/markdown": "1. 260\n2. 28\n3. 284\n4. 465\n5. 735\n\n\n",
            "text/latex": "\\begin{enumerate*}\n\\item 260\n\\item 28\n\\item 284\n\\item 465\n\\item 735\n\\end{enumerate*}\n",
            "text/plain": [
              "[1] 260  28 284 465 735"
            ]
          },
          "metadata": {}
        },
        {
          "output_type": "display_data",
          "data": {
            "text/html": [
              "<style>\n",
              ".list-inline {list-style: none; margin:0; padding: 0}\n",
              ".list-inline>li {display: inline-block}\n",
              ".list-inline>li:not(:last-child)::after {content: \"\\00b7\"; padding: 0 .5ex}\n",
              "</style>\n",
              "<ol class=list-inline><li>'Bisnis'</li><li>'D3 Perhotelan'</li><li>'ICT'</li><li>'Ilmu Komunikasi'</li><li>'Seni dan Desain'</li></ol>\n"
            ],
            "text/markdown": "1. 'Bisnis'\n2. 'D3 Perhotelan'\n3. 'ICT'\n4. 'Ilmu Komunikasi'\n5. 'Seni dan Desain'\n\n\n",
            "text/latex": "\\begin{enumerate*}\n\\item 'Bisnis'\n\\item 'D3 Perhotelan'\n\\item 'ICT'\n\\item 'Ilmu Komunikasi'\n\\item 'Seni dan Desain'\n\\end{enumerate*}\n",
            "text/plain": [
              "[1] \"Bisnis\"          \"D3 Perhotelan\"   \"ICT\"             \"Ilmu Komunikasi\"\n",
              "[5] \"Seni dan Desain\""
            ]
          },
          "metadata": {}
        }
      ]
    }
  ]
}